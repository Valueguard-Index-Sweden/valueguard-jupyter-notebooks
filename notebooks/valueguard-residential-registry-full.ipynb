{
 "cells": [
  {
   "cell_type": "markdown",
   "metadata": {},
   "source": [
    "# Getting the residential registry\n"
   ]
  },
  {
   "cell_type": "markdown",
   "metadata": {},
   "source": [
    "* Based on official data from the Swedish Land Registry (_Lantmäteriet_), but managed and improved by Valueguard and available through our easy to use API.\n",
    "* The residential registry contains more than 5.6 million homes in Sweden, of which **2.1 million** are houses and **2.7 million** are apartments. \n",
    "* We have correctly coded **85** percent of all tenancies and **99** percent of all cooperative housing.\n",
    "* We update the registry every quarter\n",
    "* The variable \"construction_year\" is missing on 9 percent of houses (2-4 percent missing for houses built 1980 and earlier) and 30 percent of apartments, a total of **22** percent of all homes. It is possible to mark up the build year in around 20 percent of these objects by using swedb_markup (sales and ads).\n",
    "* The registry is complete with number of rooms and kitchen type for apartments"
   ]
  },
  {
   "cell_type": "markdown",
   "metadata": {},
   "source": [
    "## Install dependencies"
   ]
  },
  {
   "cell_type": "code",
   "execution_count": 1,
   "metadata": {
    "_cell_guid": "b1076dfc-b9ad-4769-8c92-a6c4dae69d19",
    "_uuid": "8f2839f25d086af736a60e9eeb907d3b93b6e0e5"
   },
   "outputs": [
    {
     "name": "stdout",
     "output_type": "stream",
     "text": [
      "Collecting valueguard\n",
      "  Cloning https://github.com/Valueguard-Index-Sweden/valueguard-python-client to /tmp/pip-install-dhu9jxvh/valueguard_b232e968305f4d4aaa4e040ac453eb40\n",
      "  Running command git clone -q https://github.com/Valueguard-Index-Sweden/valueguard-python-client /tmp/pip-install-dhu9jxvh/valueguard_b232e968305f4d4aaa4e040ac453eb40\n",
      "Requirement already satisfied: requests>=2 in /opt/conda/lib/python3.9/site-packages (from valueguard) (2.25.1)\n",
      "Requirement already satisfied: certifi>=2017.4.17 in /opt/conda/lib/python3.9/site-packages (from requests>=2->valueguard) (2020.12.5)\n",
      "Requirement already satisfied: chardet<5,>=3.0.2 in /opt/conda/lib/python3.9/site-packages (from requests>=2->valueguard) (4.0.0)\n",
      "Requirement already satisfied: idna<3,>=2.5 in /opt/conda/lib/python3.9/site-packages (from requests>=2->valueguard) (2.10)\n",
      "Requirement already satisfied: urllib3<1.27,>=1.21.1 in /opt/conda/lib/python3.9/site-packages (from requests>=2->valueguard) (1.26.4)\n",
      "Requirement already satisfied: tqdm in /opt/conda/lib/python3.9/site-packages (4.60.0)\n",
      "Requirement already satisfied: folium in /opt/conda/lib/python3.9/site-packages (0.12.1.post1)\n",
      "Requirement already satisfied: branca>=0.3.0 in /opt/conda/lib/python3.9/site-packages (from folium) (0.5.0)\n",
      "Requirement already satisfied: jinja2>=2.9 in /opt/conda/lib/python3.9/site-packages (from folium) (2.11.3)\n",
      "Requirement already satisfied: requests in /opt/conda/lib/python3.9/site-packages (from folium) (2.25.1)\n",
      "Requirement already satisfied: numpy in /opt/conda/lib/python3.9/site-packages (from folium) (1.20.2)\n",
      "Requirement already satisfied: MarkupSafe>=0.23 in /opt/conda/lib/python3.9/site-packages (from jinja2>=2.9->folium) (1.1.1)\n",
      "Requirement already satisfied: urllib3<1.27,>=1.21.1 in /opt/conda/lib/python3.9/site-packages (from requests->folium) (1.26.4)\n",
      "Requirement already satisfied: certifi>=2017.4.17 in /opt/conda/lib/python3.9/site-packages (from requests->folium) (2020.12.5)\n",
      "Requirement already satisfied: chardet<5,>=3.0.2 in /opt/conda/lib/python3.9/site-packages (from requests->folium) (4.0.0)\n",
      "Requirement already satisfied: idna<3,>=2.5 in /opt/conda/lib/python3.9/site-packages (from requests->folium) (2.10)\n",
      "Requirement already satisfied: pymysql in /opt/conda/lib/python3.9/site-packages (1.0.2)\n"
     ]
    }
   ],
   "source": [
    "# Install valueguards client\n",
    "!pip install git+https://github.com/Valueguard-Index-Sweden/valueguard-python-client#egg=valueguard\n",
    "# Install tqdm progress bar \n",
    "!pip install tqdm\n",
    "# Install folium map\n",
    "!pip install folium\n",
    "# Install pymysql\n",
    "!pip install pymysql"
   ]
  },
  {
   "cell_type": "markdown",
   "metadata": {},
   "source": [
    "## Import libraries \n",
    "\n",
    "- **valueguard** our official client to retrive data from the API\n",
    "- **tqdm** for a easily understandable progressbar\n",
    "- **pandas** to work with the data in python\n",
    "- **math** to calcualate the ceiling of pages needed\n",
    "- **time** to time the functions\n",
    "- **sqlalchemy** to store the data in a database\n",
    "- **Folium** Visualize the data on a map"
   ]
  },
  {
   "cell_type": "code",
   "execution_count": 2,
   "metadata": {},
   "outputs": [],
   "source": [
    "import valueguard\n",
    "from tqdm import tqdm\n",
    "import pandas as pd\n",
    "import math\n",
    "import time\n",
    "from datetime import datetime, timedelta\n",
    "from sqlalchemy import create_engine\n",
    "import folium\n",
    "from folium import Marker\n",
    "from folium.plugins import MarkerCluster\n",
    "import os"
   ]
  },
  {
   "cell_type": "markdown",
   "metadata": {},
   "source": [
    "### Display Settings"
   ]
  },
  {
   "cell_type": "code",
   "execution_count": 3,
   "metadata": {},
   "outputs": [],
   "source": [
    "pd.set_option('display.max_columns', None)"
   ]
  },
  {
   "cell_type": "markdown",
   "metadata": {},
   "source": [
    "### Create client object"
   ]
  },
  {
   "cell_type": "code",
   "execution_count": 4,
   "metadata": {},
   "outputs": [],
   "source": [
    "vgClient = valueguard.Client()"
   ]
  },
  {
   "cell_type": "markdown",
   "metadata": {},
   "source": [
    "### Get credentials "
   ]
  },
  {
   "cell_type": "code",
   "execution_count": 5,
   "metadata": {},
   "outputs": [],
   "source": [
    "valueguard_username = os.getenv('VALUEGUARD_API_USERNAME')\n",
    "valueguard_password = os.getenv('VALUEGUARD_API_PASSWORD')"
   ]
  },
  {
   "cell_type": "markdown",
   "metadata": {},
   "source": [
    "### Login to Valueguard"
   ]
  },
  {
   "cell_type": "code",
   "execution_count": 6,
   "metadata": {},
   "outputs": [],
   "source": [
    "vgClient.authenticate(valueguard_username,valueguard_password)"
   ]
  },
  {
   "cell_type": "markdown",
   "metadata": {},
   "source": [
    "## Settings for the **residential registry**\n",
    "\n",
    "> We are fetching the entire residential registry. \n",
    "\n",
    "We use a **page size** of **50000 rows** and divide it by the total number of rows returned from the search criteria that was sent in. \n",
    "\n",
    "Search criteria will be empty since we want everything.\n",
    "\n",
    "The possible search criteria can be found here: [Search criterias](https://github.com/Valueguard-Index-Sweden/valueguard-python-client/wiki/residential-registry#search-criteria-fields)"
   ]
  },
  {
   "cell_type": "code",
   "execution_count": 7,
   "metadata": {},
   "outputs": [],
   "source": [
    "residential_registry_search_criteria={}\n",
    "\n",
    "residential_registry_total_nr_records = vgClient.residential_registry(offset=0, limit=0, search_criteria=residential_registry_search_criteria)['meta_data']['total_nr_records']\n",
    "page_size = 50000\n",
    "\n",
    "pages = math.ceil(residential_registry_total_nr_records/page_size)"
   ]
  },
  {
   "cell_type": "markdown",
   "metadata": {},
   "source": [
    "## Fetching the **residential registry**\n",
    "\n",
    "> We loop over all the pages and add the result to our dataframe\n",
    "\n",
    "The amount of fields retrieved depends on your account.\n",
    "\n",
    "The possible column that can be fetched can be found here: [Residential registry columns](https://github.com/Valueguard-Index-Sweden/valueguard-python-client/wiki/residential-registry#field-list)\n"
   ]
  },
  {
   "cell_type": "code",
   "execution_count": null,
   "metadata": {},
   "outputs": [
    {
     "name": "stderr",
     "output_type": "stream",
     "text": [
      "  6%|▌         | 7/117 [04:51<1:16:07, 41.52s/it]"
     ]
    }
   ],
   "source": [
    "# Start time to calculate the runtime\n",
    "start = time.time()\n",
    "# Dataframe to store the data\n",
    "residential_registry_df = pd.DataFrame()\n",
    "# We use tqdm to get a progessbar\n",
    "for page_nr in tqdm(range(pages)):\n",
    "    # There might be some connection issues that would stop the fetch, so we rerun those until it works.\n",
    "    successful_fetch = True\n",
    "    while successful_fetch:\n",
    "        try:\n",
    "          residential_registry_df = residential_registry_df.append(pd.DataFrame(vgClient.residential_registry(offset=page_nr*page_size, limit=page_size, search_criteria=residential_registry_search_criteria)['residences']), ignore_index=True)\n",
    "          successful_fetch=False\n",
    "        except:\n",
    "          pass \n",
    "#    \n",
    "end = time.time()\n",
    "print(\"Fetchtime\" + str((end - start)/60) + \"min\")"
   ]
  },
  {
   "cell_type": "markdown",
   "metadata": {},
   "source": [
    "### Check if we have fetched all rows"
   ]
  },
  {
   "cell_type": "code",
   "execution_count": null,
   "metadata": {},
   "outputs": [],
   "source": [
    "len(residential_registry_df) == residential_registry_total_nr_records"
   ]
  },
  {
   "cell_type": "markdown",
   "metadata": {},
   "source": [
    "#### Set the id field to index"
   ]
  },
  {
   "cell_type": "code",
   "execution_count": null,
   "metadata": {},
   "outputs": [],
   "source": [
    "residential_registry_df.set_index('id', inplace=True)"
   ]
  },
  {
   "cell_type": "markdown",
   "metadata": {},
   "source": [
    "## Investigating the data\n",
    "\n",
    "> Search on **street = Kantorsgatan** and **postal code  = 75424**"
   ]
  },
  {
   "cell_type": "code",
   "execution_count": null,
   "metadata": {},
   "outputs": [],
   "source": [
    "residential_registry_df_search = residential_registry_df[(residential_registry_df['street'] == 'Kantorsgatan') & (residential_registry_df['postal_code'] == \"75424\")][['id','address','street','apartment_nr','home_type','updated_from', 'updated_at','wgs84lon','wgs84lat']]\n",
    "residential_registry_df_search"
   ]
  },
  {
   "cell_type": "markdown",
   "metadata": {},
   "source": [
    "### Visualize search result on a map"
   ]
  },
  {
   "cell_type": "code",
   "execution_count": null,
   "metadata": {},
   "outputs": [],
   "source": [
    "# Create a map\n",
    "m_1 = folium.Map(location=[59.87370948497286, 17.644212561349246], tiles='cartodbpositron', zoom_start=15)\n",
    "\n",
    "# Add points to the map\n",
    "mc = MarkerCluster()\n",
    "for idx, row in residential_registry_df_search.iterrows():\n",
    "    if not math.isnan(row['wgs84lon']) and not math.isnan(row['wgs84lat']):\n",
    "        mc.add_child(Marker([row['wgs84lat'], row['wgs84lon']],popup=row['address'] + \" lgh \" + str(int(row['apartment_nr']))))\n",
    "m_1.add_child(mc)\n",
    "# Display the map\n",
    "m_1\n"
   ]
  },
  {
   "cell_type": "markdown",
   "metadata": {},
   "source": [
    "### Ownership type"
   ]
  },
  {
   "cell_type": "code",
   "execution_count": null,
   "metadata": {},
   "outputs": [],
   "source": [
    "# create the bar plot\n",
    "ax = residential_registry_df['ownership_type'].value_counts().plot(kind='bar')\n",
    "# rotate xtick labels\n",
    "ax.set_xticklabels(ax.get_xticklabels(), rotation=0)\n",
    "# set the y-axis label\n",
    "ax.set_ylabel(\"Residences\")\n",
    "# set the title\n",
    "ax.set_title(\"Distribution of ownership types\")"
   ]
  },
  {
   "cell_type": "markdown",
   "metadata": {},
   "source": [
    "## Save data"
   ]
  },
  {
   "cell_type": "markdown",
   "metadata": {},
   "source": [
    "### CSV (File)"
   ]
  },
  {
   "cell_type": "code",
   "execution_count": null,
   "metadata": {},
   "outputs": [],
   "source": [
    "residential_registry_df.to_csv(\"../data/residential_registry.csv\", index=False)"
   ]
  },
  {
   "cell_type": "markdown",
   "metadata": {},
   "source": [
    "### MySql (Database)"
   ]
  },
  {
   "cell_type": "code",
   "execution_count": null,
   "metadata": {
    "tags": []
   },
   "outputs": [],
   "source": [
    "# Credentials to database connection\n",
    "hostname=\"localhost\"\n",
    "dbname=\"mydb_name\"\n",
    "uname=\"my_user_name\"\n",
    "pwd=\"my_password\"\n",
    "\n",
    "\n",
    "# Create SQLAlchemy engine to connect to MySQL Database\n",
    "engine = create_engine(\"mysql+pymysql://{user}:{pw}@{host}/{db}\".format(host=hostname, db=dbname, user=uname, pw=pwd))\n",
    "\n",
    "# Convert dataframe to sql table                                   \n",
    "# --> residential_registry_df.to_sql('residential_registry', engine, index=False)"
   ]
  }
 ],
 "metadata": {
  "kernelspec": {
   "display_name": "Python 3",
   "language": "python",
   "name": "python3"
  },
  "language_info": {
   "codemirror_mode": {
    "name": "ipython",
    "version": 3
   },
   "file_extension": ".py",
   "mimetype": "text/x-python",
   "name": "python",
   "nbconvert_exporter": "python",
   "pygments_lexer": "ipython3",
   "version": "3.9.2"
  }
 },
 "nbformat": 4,
 "nbformat_minor": 4
}
