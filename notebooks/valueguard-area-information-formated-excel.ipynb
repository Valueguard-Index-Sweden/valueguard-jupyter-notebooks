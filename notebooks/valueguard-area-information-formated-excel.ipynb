{
 "cells": [
  {
   "cell_type": "markdown",
   "id": "4c54b7e5",
   "metadata": {},
   "source": [
    "# valueguard-area-information-formated-excel"
   ]
  },
  {
   "cell_type": "markdown",
   "id": "6048172c",
   "metadata": {},
   "source": [
    "### Install valueguard lib"
   ]
  },
  {
   "cell_type": "code",
   "execution_count": null,
   "id": "b72cd653",
   "metadata": {},
   "outputs": [],
   "source": [
    "%%capture --no-display\n",
    "!pip3 install --upgrade --force-reinstall  git+https://github.com/Valueguard-Index-Sweden/valueguard-python-client#egg=valueguard"
   ]
  },
  {
   "cell_type": "markdown",
   "id": "9f06d1e9",
   "metadata": {},
   "source": [
    "### Imports"
   ]
  },
  {
   "cell_type": "code",
   "execution_count": 30,
   "id": "eb650492",
   "metadata": {},
   "outputs": [],
   "source": [
    "import valueguard \n",
    "import requests\n",
    "import pandas as pd\n",
    "import numpy as np\n",
    "from datetime import datetime"
   ]
  },
  {
   "cell_type": "markdown",
   "id": "ff0d4a80",
   "metadata": {},
   "source": [
    "### Settings"
   ]
  },
  {
   "cell_type": "code",
   "execution_count": 2,
   "id": "a6ab583e",
   "metadata": {},
   "outputs": [],
   "source": [
    "pd.set_option('display.max_colwidth', None)"
   ]
  },
  {
   "cell_type": "markdown",
   "id": "5745947e",
   "metadata": {},
   "source": [
    "### Authenticate [ API ]"
   ]
  },
  {
   "cell_type": "code",
   "execution_count": null,
   "id": "3ab566b7",
   "metadata": {},
   "outputs": [],
   "source": [
    "# Create object\n",
    "vgClient = valueguard.Client()\n",
    "\n",
    "# Generate a access token\n",
    "vgClient.authenticate(\"username\",\"password\")"
   ]
  },
  {
   "cell_type": "markdown",
   "id": "67569aff",
   "metadata": {},
   "source": [
    "### Generate EXCEL file"
   ]
  },
  {
   "cell_type": "code",
   "execution_count": null,
   "id": "4595af93",
   "metadata": {},
   "outputs": [],
   "source": [
    "%%time\n",
    "print(\"Area\")\n",
    "area_df = pd.DataFrame(vgClient.area()['areas'])\n",
    "\n",
    "# Get latest data\n",
    "current_date = datetime.now().strftime(\"%Y-%m-%d\")\n",
    "print(\"Data valid at: \", current_date)\n",
    "\n",
    "print(\"Area information\")\n",
    "area_information_df = pd.DataFrame(vgClient.area_information(search_criteria={\n",
    "                                                                              \"valid_at\": current_date\n",
    "                                                                             })['area_information'])"
   ]
  },
  {
   "cell_type": "code",
   "execution_count": 5,
   "id": "74235ac3",
   "metadata": {},
   "outputs": [
    {
     "name": "stdout",
     "output_type": "stream",
     "text": [
      "CPU times: user 58.6 s, sys: 12.3 ms, total: 58.6 s\n",
      "Wall time: 58.6 s\n"
     ]
    }
   ],
   "source": [
    "%%time\n",
    "fields = [\"avg_recounted_price_n_best\", \"avg_recounted_price_n\", \"avg_recounted_psqm_n_best\", \"avg_recounted_psqm_n\", \"number_of_sales_n\"]\n",
    "excel_rows_description = [\n",
    "    {'rooms': \"1\", 'category': \"Bostadsrätt\", \"suffix\": \"_oneroom\"},\n",
    "    {'rooms': \"2\", 'category': \"Bostadsrätt\", \"suffix\": \"_tworoom\"},\n",
    "    {'rooms': \"3\", 'category': \"Bostadsrätt\", \"suffix\": \"_threeroom\"},\n",
    "    {'rooms': \"4\", 'category': \"Bostadsrätt\", \"suffix\": \"_fourroom\"},\n",
    "    {'rooms': \"5\", 'category': \"Bostadsrätt\", \"suffix\": \"_fiveroom_plus\"},\n",
    "    {'rooms': None, 'category': \"Bostadsrätt\", \"suffix\": \"_apt\"},\n",
    "    {'rooms': None, 'category': \"Småhus\", \"suffix\": \"_house\"}\n",
    "]\n",
    "\n",
    "excel_result_raw = []\n",
    "\n",
    "for index, area_row in area_df.iterrows():\n",
    "    area_id = area_row['id']\n",
    "    area_name = area_row['name']\n",
    "    \n",
    "    for row_info in excel_rows_description:\n",
    "        row = {'deso': area_name, 'rum': row_info['rooms'], 'kategori': row_info['category']}\n",
    "        \n",
    "        tmp_df = area_information_df[area_information_df['area_id'] == area_id]\n",
    "        for field in fields:\n",
    "            field_rows = tmp_df[tmp_df['field_name'] == field + row_info['suffix']]\n",
    "            \n",
    "            \n",
    "            field_value = field_rows.iloc[0]['value'] if len(field_rows) > 0 else None\n",
    "            row[field] = field_value\n",
    "        \n",
    "        excel_result_raw.append(row)\n"
   ]
  },
  {
   "cell_type": "code",
   "execution_count": 6,
   "id": "1a94f780",
   "metadata": {},
   "outputs": [],
   "source": [
    "excel_result_df = pd.DataFrame(excel_result_raw)\n",
    "excel_result_df['medelpris'] = np.where(excel_result_df['avg_recounted_price_n_best'].isnull(), excel_result_df['avg_recounted_price_n'], excel_result_df['avg_recounted_price_n_best'])\n",
    "excel_result_df['medelkvmpris'] = np.where(excel_result_df['avg_recounted_psqm_n_best'].isnull(), excel_result_df['avg_recounted_psqm_n'], excel_result_df['avg_recounted_psqm_n_best'])\n",
    "excel_result_df['antal'] = excel_result_df['number_of_sales_n']"
   ]
  },
  {
   "cell_type": "code",
   "execution_count": 7,
   "id": "091b8b78",
   "metadata": {},
   "outputs": [],
   "source": [
    "excel_final_df = excel_result_df[['deso','rum','kategori','medelpris','medelkvmpris','antal']][(excel_result_df['medelpris'].notnull()) | (excel_result_df['medelkvmpris'].notnull())]"
   ]
  },
  {
   "cell_type": "code",
   "execution_count": 12,
   "id": "b6cac217",
   "metadata": {},
   "outputs": [],
   "source": [
    "#excel_final_df[:10]"
   ]
  },
  {
   "cell_type": "code",
   "execution_count": 9,
   "id": "429c7423",
   "metadata": {},
   "outputs": [],
   "source": [
    "excel_final_df.to_excel(\"valueguard_area_information_formated.xlsx\", index=False)"
   ]
  }
 ],
 "metadata": {
  "kernelspec": {
   "display_name": "Python 3 (ipykernel)",
   "language": "python",
   "name": "python3"
  },
  "language_info": {
   "codemirror_mode": {
    "name": "ipython",
    "version": 3
   },
   "file_extension": ".py",
   "mimetype": "text/x-python",
   "name": "python",
   "nbconvert_exporter": "python",
   "pygments_lexer": "ipython3",
   "version": "3.10.12"
  }
 },
 "nbformat": 4,
 "nbformat_minor": 5
}
