{
 "cells": [
  {
   "cell_type": "markdown",
   "metadata": {},
   "source": [
    "# Marking up the residential registry with updates from **Public data**"
   ]
  },
  {
   "cell_type": "markdown",
   "metadata": {},
   "source": [
    "# Install dependencies"
   ]
  },
  {
   "cell_type": "code",
   "execution_count": 11,
   "metadata": {
    "_cell_guid": "b1076dfc-b9ad-4769-8c92-a6c4dae69d19",
    "_uuid": "8f2839f25d086af736a60e9eeb907d3b93b6e0e5",
    "execution": {
     "iopub.execute_input": "2022-06-15T09:05:13.081688Z",
     "iopub.status.busy": "2022-06-15T09:05:13.081086Z",
     "iopub.status.idle": "2022-06-15T09:05:27.537383Z",
     "shell.execute_reply": "2022-06-15T09:05:27.535969Z",
     "shell.execute_reply.started": "2022-06-15T09:05:13.081636Z"
    }
   },
   "outputs": [
    {
     "name": "stdout",
     "output_type": "stream",
     "text": [
      "Requirement already satisfied: valueguard from git+https://github.com/Valueguard-Index-Sweden/valueguard-python-client#egg=valueguard in /opt/conda/lib/python3.6/site-packages (0.1.3)\n",
      "Requirement already satisfied: requests>=2 in /opt/conda/lib/python3.6/site-packages (from valueguard) (2.21.0)\n",
      "Requirement already satisfied: certifi>=2017.4.17 in /opt/conda/lib/python3.6/site-packages (from requests>=2->valueguard) (2018.11.29)\n",
      "Requirement already satisfied: urllib3<1.25,>=1.21.1 in /opt/conda/lib/python3.6/site-packages (from requests>=2->valueguard) (1.24.3)\n",
      "Requirement already satisfied: chardet<3.1.0,>=3.0.2 in /opt/conda/lib/python3.6/site-packages (from requests>=2->valueguard) (3.0.4)\n",
      "Requirement already satisfied: idna<2.9,>=2.5 in /opt/conda/lib/python3.6/site-packages (from requests>=2->valueguard) (2.8)\n",
      "Collecting tqdm\n",
      "\u001b[?25l  Downloading https://files.pythonhosted.org/packages/8a/c4/d15f1e627fff25443ded77ea70a7b5532d6371498f9285d44d62587e209c/tqdm-4.64.0-py2.py3-none-any.whl (78kB)\n",
      "\u001b[K    100% |████████████████████████████████| 81kB 11.0MB/s \n",
      "\u001b[?25hCollecting importlib-resources; python_version < \"3.7\" (from tqdm)\n",
      "  Downloading https://files.pythonhosted.org/packages/24/1b/33e489669a94da3ef4562938cd306e8fa915e13939d7b8277cb5569cb405/importlib_resources-5.4.0-py3-none-any.whl\n",
      "Collecting zipp>=3.1.0; python_version < \"3.10\" (from importlib-resources; python_version < \"3.7\"->tqdm)\n",
      "  Downloading https://files.pythonhosted.org/packages/bd/df/d4a4974a3e3957fd1c1fa3082366d7fff6e428ddb55f074bf64876f8e8ad/zipp-3.6.0-py3-none-any.whl\n",
      "Installing collected packages: zipp, importlib-resources, tqdm\n",
      "Successfully installed importlib-resources-5.4.0 tqdm-4.64.0 zipp-3.6.0\n"
     ]
    }
   ],
   "source": [
    "!pip install git+https://github.com/Valueguard-Index-Sweden/valueguard-python-client#egg=valueguard\n",
    "!pip install tqdm"
   ]
  },
  {
   "cell_type": "markdown",
   "metadata": {},
   "source": [
    "## Import libraries \n",
    "\n",
    "- **valueguard** our official client to retrive data from the API\n",
    "- **tqdm** for a easily understandable progressbar\n",
    "- **pandas** to work with the data in python\n",
    "- **math** to calcualate the ceiling of pages needed\n",
    "- **time** to time the functions"
   ]
  },
  {
   "cell_type": "code",
   "execution_count": 14,
   "metadata": {
    "execution": {
     "iopub.execute_input": "2022-06-15T09:17:32.934765Z",
     "iopub.status.busy": "2022-06-15T09:17:32.934399Z",
     "iopub.status.idle": "2022-06-15T09:17:32.940125Z",
     "shell.execute_reply": "2022-06-15T09:17:32.939019Z",
     "shell.execute_reply.started": "2022-06-15T09:17:32.934737Z"
    }
   },
   "outputs": [],
   "source": [
    "import valueguard\n",
    "from tqdm import tqdm\n",
    "import pandas as pd\n",
    "import math\n",
    "import time\n",
    "import datetime"
   ]
  },
  {
   "cell_type": "markdown",
   "metadata": {},
   "source": [
    "## Display Settings"
   ]
  },
  {
   "cell_type": "code",
   "execution_count": 2,
   "metadata": {},
   "outputs": [],
   "source": [
    "pd.set_option('display.max_columns', None)"
   ]
  },
  {
   "cell_type": "code",
   "execution_count": 3,
   "metadata": {
    "execution": {
     "iopub.execute_input": "2022-06-15T09:17:34.403624Z",
     "iopub.status.busy": "2022-06-15T09:17:34.403173Z",
     "iopub.status.idle": "2022-06-15T09:17:34.408495Z",
     "shell.execute_reply": "2022-06-15T09:17:34.407419Z",
     "shell.execute_reply.started": "2022-06-15T09:17:34.403590Z"
    }
   },
   "outputs": [],
   "source": [
    "vgClient = valueguard.Client()"
   ]
  },
  {
   "cell_type": "markdown",
   "metadata": {},
   "source": [
    "## Get credentials "
   ]
  },
  {
   "cell_type": "code",
   "execution_count": 59,
   "metadata": {
    "execution": {
     "iopub.execute_input": "2022-06-15T09:17:35.284329Z",
     "iopub.status.busy": "2022-06-15T09:17:35.283000Z",
     "iopub.status.idle": "2022-06-15T09:17:35.511446Z",
     "shell.execute_reply": "2022-06-15T09:17:35.510381Z",
     "shell.execute_reply.started": "2022-06-15T09:17:35.284276Z"
    }
   },
   "outputs": [],
   "source": [
    "valueguard_username = os.getenv('VALUEGUARD_API_USERNAME')\n",
    "valueguard_password = os.getenv('VALUEGUARD_API_PASSWORD')"
   ]
  },
  {
   "cell_type": "markdown",
   "metadata": {},
   "source": [
    "## Login to Valueguard"
   ]
  },
  {
   "cell_type": "code",
   "execution_count": 51,
   "metadata": {
    "execution": {
     "iopub.execute_input": "2022-06-15T09:17:36.462379Z",
     "iopub.status.busy": "2022-06-15T09:17:36.461396Z",
     "iopub.status.idle": "2022-06-15T09:17:37.066394Z",
     "shell.execute_reply": "2022-06-15T09:17:37.065319Z",
     "shell.execute_reply.started": "2022-06-15T09:17:36.462335Z"
    }
   },
   "outputs": [],
   "source": [
    "vgClient.authenticate(valueguard_username,valueguard_password)"
   ]
  },
  {
   "cell_type": "code",
   "execution_count": 9,
   "metadata": {},
   "outputs": [
    {
     "name": "stderr",
     "output_type": "stream",
     "text": [
      "/opt/conda/lib/python3.6/site-packages/IPython/core/interactiveshell.py:3020: DtypeWarning: Columns (0,31) have mixed types.Specify dtype option on import or set low_memory=False.\n",
      "  interactivity=interactivity, compiler=compiler, result=result)\n"
     ]
    }
   ],
   "source": [
    "residential_registry_df = pd.read_csv(\"../data/residential_registry.csv\")"
   ]
  },
  {
   "cell_type": "code",
   "execution_count": 11,
   "metadata": {},
   "outputs": [],
   "source": [
    "residential_registry_df.set_index('id', inplace=True) # Set the id in the data to the id of the dataframe"
   ]
  },
  {
   "cell_type": "code",
   "execution_count": 56,
   "metadata": {},
   "outputs": [],
   "source": [
    "# Get the max updated at value\n",
    "residential_registry_updated_at_max = residential_registry_df['updated_at'].max()"
   ]
  },
  {
   "cell_type": "markdown",
   "metadata": {},
   "source": [
    "## Settings for the **residential registry markups**"
   ]
  },
  {
   "cell_type": "code",
   "execution_count": 57,
   "metadata": {},
   "outputs": [],
   "source": [
    "residential_registry_markups_search_criteria={\n",
    "    'updated_at_min': residential_registry_updated_at_max,\n",
    "    'updated_from':\"public_data\"\n",
    "}\n",
    "\n",
    "residential_registry_markups_total_nr_records = vgClient.residential_registry_markups(offset=0, limit=0, search_criteria=residential_registry_markups_search_criteria)['meta_data']['total_nr_records']\n",
    "page_size = 50000\n",
    "\n",
    "pages = math.ceil(residential_registry_markups_total_nr_records/page_size)"
   ]
  },
  {
   "cell_type": "markdown",
   "metadata": {},
   "source": [
    "### New rows to update registry with"
   ]
  },
  {
   "cell_type": "code",
   "execution_count": 58,
   "metadata": {},
   "outputs": [
    {
     "name": "stdout",
     "output_type": "stream",
     "text": [
      "32147\n"
     ]
    }
   ],
   "source": [
    "print(residential_registry_markups_total_nr_records)"
   ]
  },
  {
   "cell_type": "markdown",
   "metadata": {},
   "source": [
    "## Addring the markups to the **residential registry**"
   ]
  },
  {
   "cell_type": "code",
   "execution_count": 50,
   "metadata": {},
   "outputs": [
    {
     "name": "stderr",
     "output_type": "stream",
     "text": [
      "100%|██████████| 1/1 [8:26:11<00:00, 30371.95s/it]\n"
     ]
    }
   ],
   "source": [
    "for page_nr in tqdm(range(pages)):\n",
    "    for residenetial_registry_markup in vgClient.residential_registry_markups(offset=page_nr*page_size, limit=page_size, search_criteria=residential_registry_markups_search_criteria)['residences']:\n",
    "        id_to_update = residenetial_registry_markup['id']\n",
    "        for column_to_update in residenetial_registry_markup.keys():\n",
    "            if column_to_update != \"id\":\n",
    "                residential_registry_df.loc[int(id_to_update),column_to_update] = residenetial_registry_markup[column_to_update]"
   ]
  },
  {
   "cell_type": "markdown",
   "metadata": {},
   "source": [
    "### Save data"
   ]
  },
  {
   "cell_type": "markdown",
   "metadata": {},
   "source": [
    "### File (CSV)"
   ]
  },
  {
   "cell_type": "code",
   "execution_count": null,
   "metadata": {},
   "outputs": [],
   "source": [
    "residential_registry_df.to_csv(\"../data/residential_registry_with_updates.csv\")"
   ]
  },
  {
   "cell_type": "markdown",
   "metadata": {},
   "source": [
    "### MySql (Database)"
   ]
  },
  {
   "cell_type": "code",
   "execution_count": null,
   "metadata": {},
   "outputs": [],
   "source": [
    "# Credentials to database connection\n",
    "hostname=\"localhost\"\n",
    "dbname=\"mydb_name\"\n",
    "uname=\"my_user_name\"\n",
    "pwd=\"my_password\"\n",
    "\n",
    "\n",
    "# Create SQLAlchemy engine to connect to MySQL Database\n",
    "engine = create_engine(\"mysql+pymysql://{user}:{pw}@{host}/{db}\".format(host=hostname, db=dbname, user=uname, pw=pwd))\n",
    "\n",
    "# Convert dataframe to sql table                                   \n",
    "# --> residential_registry_df.to_sql('residential_registry_with_updates', engine, index=False)"
   ]
  }
 ],
 "metadata": {
  "kernelspec": {
   "display_name": "Python 3",
   "language": "python",
   "name": "python3"
  },
  "language_info": {
   "codemirror_mode": {
    "name": "ipython",
    "version": 3
   },
   "file_extension": ".py",
   "mimetype": "text/x-python",
   "name": "python",
   "nbconvert_exporter": "python",
   "pygments_lexer": "ipython3",
   "version": "3.9.2"
  }
 },
 "nbformat": 4,
 "nbformat_minor": 4
}
