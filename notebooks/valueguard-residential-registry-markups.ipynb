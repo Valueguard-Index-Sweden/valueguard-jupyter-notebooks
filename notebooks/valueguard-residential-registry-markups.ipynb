{
 "cells": [
  {
   "cell_type": "markdown",
   "metadata": {},
   "source": [
    "# Marking up the residential registry with updates from **Public data**"
   ]
  },
  {
   "cell_type": "markdown",
   "metadata": {},
   "source": [
    "# Install dependencies"
   ]
  },
  {
   "cell_type": "code",
   "execution_count": 1,
   "metadata": {
    "_cell_guid": "b1076dfc-b9ad-4769-8c92-a6c4dae69d19",
    "_uuid": "8f2839f25d086af736a60e9eeb907d3b93b6e0e5",
    "tags": []
   },
   "outputs": [
    {
     "name": "stdout",
     "output_type": "stream",
     "text": [
      "Collecting valueguard\n",
      "  Cloning https://github.com/Valueguard-Index-Sweden/valueguard-python-client to /tmp/pip-install-n6rm98rw/valueguard_b4eb0a17a30c482cb3f04a2b48efc3f6\n",
      "  Running command git clone -q https://github.com/Valueguard-Index-Sweden/valueguard-python-client /tmp/pip-install-n6rm98rw/valueguard_b4eb0a17a30c482cb3f04a2b48efc3f6\n",
      "Requirement already satisfied: requests>=2 in /opt/conda/lib/python3.9/site-packages (from valueguard) (2.25.1)\n",
      "Requirement already satisfied: certifi>=2017.4.17 in /opt/conda/lib/python3.9/site-packages (from requests>=2->valueguard) (2020.12.5)\n",
      "Requirement already satisfied: idna<3,>=2.5 in /opt/conda/lib/python3.9/site-packages (from requests>=2->valueguard) (2.10)\n",
      "Requirement already satisfied: chardet<5,>=3.0.2 in /opt/conda/lib/python3.9/site-packages (from requests>=2->valueguard) (4.0.0)\n",
      "Requirement already satisfied: urllib3<1.27,>=1.21.1 in /opt/conda/lib/python3.9/site-packages (from requests>=2->valueguard) (1.26.4)\n",
      "Requirement already satisfied: tqdm in /opt/conda/lib/python3.9/site-packages (4.60.0)\n"
     ]
    }
   ],
   "source": [
    "!pip install git+https://github.com/Valueguard-Index-Sweden/valueguard-python-client#egg=valueguard\n",
    "!pip install tqdm"
   ]
  },
  {
   "cell_type": "markdown",
   "metadata": {},
   "source": [
    "## Import libraries \n",
    "\n",
    "- **valueguard** our official client to retrive data from the API\n",
    "- **tqdm** for a easily understandable progressbar\n",
    "- **pandas** to work with the data in python\n",
    "- **math** to calcualate the ceiling of pages needed\n",
    "- **time** to time the functions"
   ]
  },
  {
   "cell_type": "code",
   "execution_count": 2,
   "metadata": {
    "tags": []
   },
   "outputs": [],
   "source": [
    "import valueguard\n",
    "from tqdm import tqdm\n",
    "import pandas as pd\n",
    "import math\n",
    "import time\n",
    "import datetime\n",
    "import os\n",
    "from sqlalchemy import create_engine"
   ]
  },
  {
   "cell_type": "markdown",
   "metadata": {},
   "source": [
    "## Display Settings"
   ]
  },
  {
   "cell_type": "code",
   "execution_count": 3,
   "metadata": {},
   "outputs": [],
   "source": [
    "pd.set_option('display.max_columns', None)"
   ]
  },
  {
   "cell_type": "markdown",
   "metadata": {},
   "source": [
    "### Create Client"
   ]
  },
  {
   "cell_type": "code",
   "execution_count": 4,
   "metadata": {
    "tags": []
   },
   "outputs": [],
   "source": [
    "vgClient = valueguard.Client()"
   ]
  },
  {
   "cell_type": "markdown",
   "metadata": {},
   "source": [
    "## Get credentials "
   ]
  },
  {
   "cell_type": "code",
   "execution_count": 5,
   "metadata": {
    "tags": []
   },
   "outputs": [],
   "source": [
    "valueguard_username = os.getenv('VALUEGUARD_API_USERNAME')\n",
    "valueguard_password = os.getenv('VALUEGUARD_API_PASSWORD')"
   ]
  },
  {
   "cell_type": "markdown",
   "metadata": {},
   "source": [
    "## Login to Valueguard"
   ]
  },
  {
   "cell_type": "code",
   "execution_count": 6,
   "metadata": {
    "tags": []
   },
   "outputs": [],
   "source": [
    "vgClient.authenticate(valueguard_username,valueguard_password)"
   ]
  },
  {
   "cell_type": "markdown",
   "metadata": {},
   "source": [
    "## Get the residential registry data"
   ]
  },
  {
   "cell_type": "code",
   "execution_count": 7,
   "metadata": {},
   "outputs": [
    {
     "name": "stderr",
     "output_type": "stream",
     "text": [
      "/opt/conda/lib/python3.9/site-packages/IPython/core/interactiveshell.py:3169: DtypeWarning: Columns (1,31) have mixed types.Specify dtype option on import or set low_memory=False.\n",
      "  has_raised = await self.run_ast_nodes(code_ast.body, cell_name,\n"
     ]
    }
   ],
   "source": [
    "residential_registry_df = pd.read_csv(\"../data/residential_registry.csv\")"
   ]
  },
  {
   "cell_type": "markdown",
   "metadata": {},
   "source": [
    "## Set the id field to index"
   ]
  },
  {
   "cell_type": "code",
   "execution_count": 8,
   "metadata": {},
   "outputs": [],
   "source": [
    "residential_registry_df.set_index('id', inplace=True) # Set the id in the data to the id of the dataframe"
   ]
  },
  {
   "cell_type": "markdown",
   "metadata": {},
   "source": [
    "## Get the max updated at value"
   ]
  },
  {
   "cell_type": "code",
   "execution_count": 9,
   "metadata": {},
   "outputs": [],
   "source": [
    "residential_registry_updated_at_max = residential_registry_df['updated_at'].max()"
   ]
  },
  {
   "cell_type": "markdown",
   "metadata": {},
   "source": [
    "## Settings for the **residential registry markups**"
   ]
  },
  {
   "cell_type": "code",
   "execution_count": 10,
   "metadata": {},
   "outputs": [],
   "source": [
    "residential_registry_markups_search_criteria={\n",
    "    'updated_at_min': residential_registry_updated_at_max,\n",
    "    'updated_from':\"public_data\"\n",
    "}\n",
    "\n",
    "residential_registry_markups_total_nr_records = vgClient.residential_registry_markups(offset=0, limit=0, search_criteria=residential_registry_markups_search_criteria)['meta_data']['total_nr_records']\n",
    "page_size = 50000\n",
    "\n",
    "pages = math.ceil(residential_registry_markups_total_nr_records/page_size)"
   ]
  },
  {
   "cell_type": "markdown",
   "metadata": {},
   "source": [
    "### New rows to update registry with"
   ]
  },
  {
   "cell_type": "code",
   "execution_count": 11,
   "metadata": {},
   "outputs": [
    {
     "name": "stdout",
     "output_type": "stream",
     "text": [
      "32147\n"
     ]
    }
   ],
   "source": [
    "print(residential_registry_markups_total_nr_records)"
   ]
  },
  {
   "cell_type": "markdown",
   "metadata": {},
   "source": [
    "## Adding the markups to the **residential registry**"
   ]
  },
  {
   "cell_type": "code",
   "execution_count": 12,
   "metadata": {},
   "outputs": [
    {
     "name": "stderr",
     "output_type": "stream",
     "text": [
      "100%|██████████| 1/1 [00:53<00:00, 53.80s/it]\n"
     ]
    }
   ],
   "source": [
    "for page_nr in tqdm(range(pages)):\n",
    "    for residenetial_registry_markup in vgClient.residential_registry_markups(offset=page_nr*page_size, limit=page_size, search_criteria=residential_registry_markups_search_criteria)['residences']:\n",
    "        id_to_update = residenetial_registry_markup['id']\n",
    "        for column_to_update in residenetial_registry_markup.keys():\n",
    "            if column_to_update != \"id\":\n",
    "                residential_registry_df.at[int(id_to_update),column_to_update] = residenetial_registry_markup[column_to_update]"
   ]
  },
  {
   "cell_type": "markdown",
   "metadata": {},
   "source": [
    "### Save data"
   ]
  },
  {
   "cell_type": "markdown",
   "metadata": {},
   "source": [
    "### File (CSV)"
   ]
  },
  {
   "cell_type": "code",
   "execution_count": 13,
   "metadata": {},
   "outputs": [],
   "source": [
    "residential_registry_df.to_csv(\"../data/residential_registry_with_updates.csv\")"
   ]
  },
  {
   "cell_type": "markdown",
   "metadata": {},
   "source": [
    "### MySql (Database)"
   ]
  },
  {
   "cell_type": "code",
   "execution_count": 14,
   "metadata": {},
   "outputs": [],
   "source": [
    "# Credentials to database connection\n",
    "hostname=\"localhost\"\n",
    "dbname=\"mydb_name\"\n",
    "uname=\"my_user_name\"\n",
    "pwd=\"my_password\"\n",
    "\n",
    "\n",
    "# Create SQLAlchemy engine to connect to MySQL Database\n",
    "engine = create_engine(\"mysql+pymysql://{user}:{pw}@{host}/{db}\".format(host=hostname, db=dbname, user=uname, pw=pwd))\n",
    "\n",
    "# Convert dataframe to sql table                                   \n",
    "# --> residential_registry_df.to_sql('residential_registry_with_updates', engine, index=False)"
   ]
  }
 ],
 "metadata": {
  "kernelspec": {
   "display_name": "Python 3",
   "language": "python",
   "name": "python3"
  },
  "language_info": {
   "codemirror_mode": {
    "name": "ipython",
    "version": 3
   },
   "file_extension": ".py",
   "mimetype": "text/x-python",
   "name": "python",
   "nbconvert_exporter": "python",
   "pygments_lexer": "ipython3",
   "version": "3.9.2"
  }
 },
 "nbformat": 4,
 "nbformat_minor": 4
}
