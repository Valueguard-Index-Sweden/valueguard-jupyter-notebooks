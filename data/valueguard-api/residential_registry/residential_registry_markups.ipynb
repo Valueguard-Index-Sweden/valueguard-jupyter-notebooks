{
 "cells": [
  {
   "cell_type": "markdown",
   "id": "90585aed-0233-490f-a48b-bc9c7d5bbefd",
   "metadata": {},
   "source": [
    "<img src=\"https://valueguard.se/static/media/valueguardlogo_black.f3a4c174.png\" alt=\"logo\" width=\"400\"/>\n",
    "\n",
    "# Residential Registry Markups\n",
    "\n",
    "* Based on official data from the Swedish Land Registry (_Lantmäteriet_), but managed and improved by Valueguard and available through our easy to use API.\n",
    "* The residential registry contains more than 5.6 million homes in Sweden, of which **2.1 million** are houses and **2.7 million** are apartments. \n",
    "* We have correctly coded **85** percent of all tenancies and **99** percent of all cooperative housing.\n",
    "* The variable \"construction_year\" is missing on **9** percent of houses (2-4 percent missing for houses built 1980 and earlier) and **30** percent of apartments, a total of **22** percent of all homes\n",
    "* We update the registry every quarter\n",
    "* The registry is complete with number of rooms and kitchen type for apartments\n",
    "* The matching percentage of sold homes to the registry is **94.3** percent for sales within the last 12 months and **97.5** percent for all older sales"
   ]
  },
  {
   "cell_type": "markdown",
   "id": "f4843043-e4f5-4efa-8029-d8ec9a974d6c",
   "metadata": {},
   "source": [
    "# Install dependencies"
   ]
  },
  {
   "cell_type": "code",
   "execution_count": 31,
   "id": "d2568dca-b2f1-4056-850d-9d04291bbcb3",
   "metadata": {
    "collapsed": true,
    "jupyter": {
     "outputs_hidden": true
    },
    "tags": []
   },
   "outputs": [
    {
     "name": "stdout",
     "output_type": "stream",
     "text": [
      "Collecting valueguard\n",
      "  Cloning https://github.com/Valueguard-Index-Sweden/valueguard-python-client to /tmp/pip-install-alt2iy18/valueguard_7c843524cd4b4c349e530c14ae648f0e\n",
      "  Running command git clone -q https://github.com/Valueguard-Index-Sweden/valueguard-python-client /tmp/pip-install-alt2iy18/valueguard_7c843524cd4b4c349e530c14ae648f0e\n",
      "Requirement already satisfied: requests>=2 in /opt/conda/lib/python3.9/site-packages (from valueguard) (2.25.1)\n",
      "Requirement already satisfied: idna<3,>=2.5 in /opt/conda/lib/python3.9/site-packages (from requests>=2->valueguard) (2.10)\n",
      "Requirement already satisfied: certifi>=2017.4.17 in /opt/conda/lib/python3.9/site-packages (from requests>=2->valueguard) (2020.12.5)\n",
      "Requirement already satisfied: chardet<5,>=3.0.2 in /opt/conda/lib/python3.9/site-packages (from requests>=2->valueguard) (4.0.0)\n",
      "Requirement already satisfied: urllib3<1.27,>=1.21.1 in /opt/conda/lib/python3.9/site-packages (from requests>=2->valueguard) (1.26.4)\n",
      "Requirement already satisfied: geopandas in /opt/conda/lib/python3.9/site-packages (0.9.0)\n",
      "Requirement already satisfied: shapely>=1.6 in /opt/conda/lib/python3.9/site-packages (from geopandas) (1.7.1)\n",
      "Requirement already satisfied: pyproj>=2.2.0 in /opt/conda/lib/python3.9/site-packages (from geopandas) (3.0.1)\n",
      "Requirement already satisfied: fiona>=1.8 in /opt/conda/lib/python3.9/site-packages (from geopandas) (1.8.19)\n",
      "Requirement already satisfied: pandas>=0.24.0 in /opt/conda/lib/python3.9/site-packages (from geopandas) (1.2.4)\n",
      "Requirement already satisfied: cligj>=0.5 in /opt/conda/lib/python3.9/site-packages (from fiona>=1.8->geopandas) (0.7.1)\n",
      "Requirement already satisfied: six>=1.7 in /opt/conda/lib/python3.9/site-packages (from fiona>=1.8->geopandas) (1.16.0)\n",
      "Requirement already satisfied: click<8,>=4.0 in /opt/conda/lib/python3.9/site-packages (from fiona>=1.8->geopandas) (7.1.2)\n",
      "Requirement already satisfied: certifi in /opt/conda/lib/python3.9/site-packages (from fiona>=1.8->geopandas) (2020.12.5)\n",
      "Requirement already satisfied: munch in /opt/conda/lib/python3.9/site-packages (from fiona>=1.8->geopandas) (2.5.0)\n",
      "Requirement already satisfied: attrs>=17 in /opt/conda/lib/python3.9/site-packages (from fiona>=1.8->geopandas) (21.2.0)\n",
      "Requirement already satisfied: click-plugins>=1.0 in /opt/conda/lib/python3.9/site-packages (from fiona>=1.8->geopandas) (1.1.1)\n",
      "Requirement already satisfied: python-dateutil>=2.7.3 in /opt/conda/lib/python3.9/site-packages (from pandas>=0.24.0->geopandas) (2.8.1)\n",
      "Requirement already satisfied: pytz>=2017.3 in /opt/conda/lib/python3.9/site-packages (from pandas>=0.24.0->geopandas) (2021.1)\n",
      "Requirement already satisfied: numpy>=1.16.5 in /opt/conda/lib/python3.9/site-packages (from pandas>=0.24.0->geopandas) (1.20.2)\n",
      "Collecting folium\n",
      "  Downloading folium-0.12.1-py2.py3-none-any.whl (94 kB)\n",
      "\u001b[K     |████████████████████████████████| 94 kB 3.6 MB/s eta 0:00:011\n",
      "\u001b[?25hRequirement already satisfied: jinja2>=2.9 in /opt/conda/lib/python3.9/site-packages (from folium) (2.11.3)\n",
      "Collecting branca>=0.3.0\n",
      "  Downloading branca-0.4.2-py3-none-any.whl (24 kB)\n",
      "Requirement already satisfied: numpy in /opt/conda/lib/python3.9/site-packages (from folium) (1.20.2)\n",
      "Requirement already satisfied: requests in /opt/conda/lib/python3.9/site-packages (from folium) (2.25.1)\n",
      "Requirement already satisfied: MarkupSafe>=0.23 in /opt/conda/lib/python3.9/site-packages (from jinja2>=2.9->folium) (1.1.1)\n",
      "Requirement already satisfied: certifi>=2017.4.17 in /opt/conda/lib/python3.9/site-packages (from requests->folium) (2020.12.5)\n",
      "Requirement already satisfied: urllib3<1.27,>=1.21.1 in /opt/conda/lib/python3.9/site-packages (from requests->folium) (1.26.4)\n",
      "Requirement already satisfied: idna<3,>=2.5 in /opt/conda/lib/python3.9/site-packages (from requests->folium) (2.10)\n",
      "Requirement already satisfied: chardet<5,>=3.0.2 in /opt/conda/lib/python3.9/site-packages (from requests->folium) (4.0.0)\n",
      "Installing collected packages: branca, folium\n",
      "Successfully installed branca-0.4.2 folium-0.12.1\n"
     ]
    }
   ],
   "source": [
    "!pip3 install git+https://github.com/Valueguard-Index-Sweden/valueguard-python-client#egg=valueguard\n",
    "!pip3 install geopandas"
   ]
  },
  {
   "cell_type": "markdown",
   "id": "ef2aba10-317a-43bc-ad51-37d7ae4011ee",
   "metadata": {},
   "source": [
    "## Imports"
   ]
  },
  {
   "cell_type": "code",
   "execution_count": 1,
   "id": "0fcb0ea8-d734-4072-a3ae-163852f5a04a",
   "metadata": {},
   "outputs": [],
   "source": [
    "import os\n",
    "import valueguard\n",
    "import pandas as pd\n",
    "import geopandas as gpd"
   ]
  },
  {
   "cell_type": "markdown",
   "id": "7bb444cb-b7a4-433a-8421-502eed7f3dae",
   "metadata": {},
   "source": [
    "## Settings"
   ]
  },
  {
   "cell_type": "code",
   "execution_count": 2,
   "id": "dee38eb9-ab75-4e9d-8075-a1f28021667a",
   "metadata": {},
   "outputs": [],
   "source": [
    "pd.set_option('display.max_columns', None)\n",
    "pd.set_option('display.max_rows', None)"
   ]
  },
  {
   "cell_type": "markdown",
   "id": "bfed901d-6f85-46b3-9dae-1ba17427ca8c",
   "metadata": {},
   "source": [
    "# Authenticate "
   ]
  },
  {
   "cell_type": "code",
   "execution_count": 7,
   "id": "36ca7612-4263-4ab1-ada9-856834af7f6c",
   "metadata": {},
   "outputs": [],
   "source": [
    "# Create object\n",
    "vgClient = valueguard.Client()\n",
    "\n",
    "valueguard_api_username = os. environ['VALUEGUARD_API_USERNAME']\n",
    "valueguard_api_password = os. environ['VALUEGUARD_API_PASSWORD']\n",
    "\n",
    "# Generate a access token\n",
    "vgClient.authenticate(valueguard_api_username,valueguard_api_password)"
   ]
  },
  {
   "cell_type": "markdown",
   "id": "ac355de0-6354-4b4c-a056-5a0f0b2ab25d",
   "metadata": {},
   "source": [
    "## Residential registry parameters"
   ]
  },
  {
   "cell_type": "code",
   "execution_count": 8,
   "id": "40254615-404a-473a-ab08-ae5d6c002a01",
   "metadata": {},
   "outputs": [],
   "source": [
    "residential_registry_parameters = {\n",
    "    \"id\":\"\",\n",
    "    \"address\":\"\",\n",
    "    \"apartment_area_max\":\"\",\n",
    "    \"apartment_area_min\":\"\",\n",
    "    \"apartment_category\":\"\",\n",
    "    \"apartment_nr\":\"1202\",\n",
    "    \"area_id\":\"\",\n",
    "    \"building_purpose\":\"\",\n",
    "    \"construction_year_max\":\"\",\n",
    "    \"construction_year_min\":\"\",\n",
    "    \"floor_max\":\"\",\n",
    "    \"floor_min\":\"\",\n",
    "    \"floors_max\":\"\",\n",
    "    \"floors_min\":\"\",\n",
    "    \"kitchen_type\":\"\",\n",
    "    \"living_space_max\":\"\",\n",
    "    \"living_space_min\":\"\",\n",
    "    \"owner_id\":\"\",\n",
    "    \"postal_area\":\"\",\n",
    "    \"postal_code\":\"\",\n",
    "    \"rooms_max\":\"\",\n",
    "    \"rooms_min\":\"\",\n",
    "    \"updated_at_min\":\"\",\n",
    "    \"street\":\"Ingemarsgatan\",\n",
    "    \"letter\":\"\",\n",
    "    \"number\":\"7\",\n",
    "    \"property_key\":\"\",\n",
    "    \"ownership_type\":\"\",\n",
    "    \"building_type\":\"\",\n",
    "    \"county_code\":\"\",\n",
    "    \"municipality_code\":\"\",\n",
    "    \"parish_code\":\"\"\n",
    "}\n",
    "\n",
    "residential_registry_limit = 10\n",
    "residential_registry_i = 0\n",
    "\n"
   ]
  },
  {
   "cell_type": "markdown",
   "id": "3e9b340a-199f-404d-9f4d-7b6457020ec0",
   "metadata": {},
   "source": [
    "# Get data"
   ]
  },
  {
   "cell_type": "code",
   "execution_count": 9,
   "id": "85b36a60-4eb3-43df-a762-817289539d05",
   "metadata": {},
   "outputs": [
    {
     "name": "stdout",
     "output_type": "stream",
     "text": [
      "Usead search parameters:\n",
      "[apartment_nr] => 1202\n",
      "[street] => Ingemarsgatan\n",
      "[number] => 7\n"
     ]
    }
   ],
   "source": [
    "search_criteria={}\n",
    "\n",
    "print(\"Usead search parameters:\")\n",
    "for parameter_name in residential_registry_parameters:\n",
    "    if residential_registry_parameters[parameter_name] != \"\":\n",
    "        print(\"[\" + parameter_name + \"] => \" + residential_registry_parameters[parameter_name])\n",
    "        search_criteria[parameter_name] = residential_registry_parameters[parameter_name]\n",
    "\n",
    "residential_registry_df = pd.DataFrame()\n",
    "\n",
    "while True:\n",
    "    data = vgClient.residential_registry(offset=residential_registry_i, limit=residential_registry_limit,search_criteria=search_criteria)\n",
    "    residential_registry_df = residential_registry_df.append(pd.DataFrame(data['residences']))\n",
    "    fetched_data = data['meta_data']['offset'] + data['meta_data']['response_rows']\n",
    "    if data['meta_data']['total_nr_records'] <= data['meta_data']['offset'] + data['meta_data']['response_rows']:\n",
    "        break\n",
    "    i += data['meta_data']['response_rows']"
   ]
  },
  {
   "cell_type": "code",
   "execution_count": 10,
   "id": "4c3e6aea-2953-4926-8a2e-99c532e3744f",
   "metadata": {},
   "outputs": [
    {
     "data": {
      "text/html": [
       "<div>\n",
       "<style scoped>\n",
       "    .dataframe tbody tr th:only-of-type {\n",
       "        vertical-align: middle;\n",
       "    }\n",
       "\n",
       "    .dataframe tbody tr th {\n",
       "        vertical-align: top;\n",
       "    }\n",
       "\n",
       "    .dataframe thead th {\n",
       "        text-align: right;\n",
       "    }\n",
       "</style>\n",
       "<table border=\"1\" class=\"dataframe\">\n",
       "  <thead>\n",
       "    <tr style=\"text-align: right;\">\n",
       "      <th></th>\n",
       "      <th>area_name</th>\n",
       "      <th>rooms</th>\n",
       "      <th>building_purpose</th>\n",
       "      <th>rt90x</th>\n",
       "      <th>county_code</th>\n",
       "      <th>owner_id</th>\n",
       "      <th>ownership_type</th>\n",
       "      <th>municipality_code</th>\n",
       "      <th>property_key</th>\n",
       "      <th>area_id</th>\n",
       "      <th>vacation_like_home</th>\n",
       "      <th>apartment_category</th>\n",
       "      <th>number</th>\n",
       "      <th>floors</th>\n",
       "      <th>updated_at</th>\n",
       "      <th>street</th>\n",
       "      <th>wgs84lat</th>\n",
       "      <th>home_type</th>\n",
       "      <th>id</th>\n",
       "      <th>floor</th>\n",
       "      <th>postal_area</th>\n",
       "      <th>sweref99x</th>\n",
       "      <th>sweref99y</th>\n",
       "      <th>address</th>\n",
       "      <th>updated_from</th>\n",
       "      <th>apartment_nr</th>\n",
       "      <th>parish_code</th>\n",
       "      <th>person_registered</th>\n",
       "      <th>probability_deleted</th>\n",
       "      <th>construction_year</th>\n",
       "      <th>deleted</th>\n",
       "      <th>kitchen_type</th>\n",
       "      <th>wgs84lon</th>\n",
       "      <th>apartment_area</th>\n",
       "      <th>letter</th>\n",
       "      <th>error_code</th>\n",
       "      <th>house_nr</th>\n",
       "      <th>postal_code</th>\n",
       "      <th>rt90y</th>\n",
       "      <th>type_code</th>\n",
       "      <th>building_type</th>\n",
       "    </tr>\n",
       "  </thead>\n",
       "  <tbody>\n",
       "    <tr>\n",
       "      <th>0</th>\n",
       "      <td>Stockholm__Sibirien</td>\n",
       "      <td>1.0</td>\n",
       "      <td>1</td>\n",
       "      <td>6583088.0</td>\n",
       "      <td>01</td>\n",
       "      <td>702001-8276</td>\n",
       "      <td>bostadsrätt</td>\n",
       "      <td>80</td>\n",
       "      <td>010131936</td>\n",
       "      <td>5627</td>\n",
       "      <td>1</td>\n",
       "      <td>1</td>\n",
       "      <td>7</td>\n",
       "      <td>5.0</td>\n",
       "      <td>2020-08-11</td>\n",
       "      <td>Ingemarsgatan</td>\n",
       "      <td>59.349076</td>\n",
       "      <td>lägenhet</td>\n",
       "      <td>5034311</td>\n",
       "      <td>3.0</td>\n",
       "      <td>Stockholm</td>\n",
       "      <td>6582913</td>\n",
       "      <td>673805</td>\n",
       "      <td>Ingemarsgatan 7, 11354</td>\n",
       "      <td>public_data</td>\n",
       "      <td>1202</td>\n",
       "      <td>04</td>\n",
       "      <td>0</td>\n",
       "      <td>0.0</td>\n",
       "      <td>None</td>\n",
       "      <td>0</td>\n",
       "      <td>1</td>\n",
       "      <td>18.056892</td>\n",
       "      <td>35</td>\n",
       "      <td></td>\n",
       "      <td>0</td>\n",
       "      <td>1</td>\n",
       "      <td>11354</td>\n",
       "      <td>1628092.0</td>\n",
       "      <td>320</td>\n",
       "      <td>33</td>\n",
       "    </tr>\n",
       "  </tbody>\n",
       "</table>\n",
       "</div>"
      ],
      "text/plain": [
       "             area_name  rooms  building_purpose      rt90x county_code  \\\n",
       "0  Stockholm__Sibirien    1.0                 1  6583088.0          01   \n",
       "\n",
       "      owner_id ownership_type municipality_code property_key  area_id  \\\n",
       "0  702001-8276    bostadsrätt                80    010131936     5627   \n",
       "\n",
       "   vacation_like_home  apartment_category number  floors  updated_at  \\\n",
       "0                   1                   1      7     5.0  2020-08-11   \n",
       "\n",
       "          street   wgs84lat home_type       id  floor postal_area  sweref99x  \\\n",
       "0  Ingemarsgatan  59.349076  lägenhet  5034311    3.0   Stockholm    6582913   \n",
       "\n",
       "   sweref99y                 address updated_from  apartment_nr parish_code  \\\n",
       "0     673805  Ingemarsgatan 7, 11354  public_data          1202          04   \n",
       "\n",
       "   person_registered  probability_deleted construction_year  deleted  \\\n",
       "0                  0                  0.0              None        0   \n",
       "\n",
       "   kitchen_type   wgs84lon  apartment_area letter  error_code  house_nr  \\\n",
       "0             1  18.056892              35                  0         1   \n",
       "\n",
       "  postal_code      rt90y  type_code  building_type  \n",
       "0       11354  1628092.0        320             33  "
      ]
     },
     "execution_count": 10,
     "metadata": {},
     "output_type": "execute_result"
    }
   ],
   "source": [
    "residential_registry_df[:5]"
   ]
  },
  {
   "cell_type": "markdown",
   "id": "f30df8dd-4673-498e-bb1b-73307cc4d143",
   "metadata": {},
   "source": [
    "## Select resident"
   ]
  },
  {
   "cell_type": "code",
   "execution_count": 11,
   "id": "006eb469-35d9-4741-87b5-02976c559fc2",
   "metadata": {},
   "outputs": [],
   "source": [
    "residential_registry_id_for_markups = residential_registry_df.iloc[0]['id']"
   ]
  },
  {
   "cell_type": "markdown",
   "id": "58011274-10b2-409a-861e-9887e666b65c",
   "metadata": {},
   "source": [
    "## Residential registry markups parameters"
   ]
  },
  {
   "cell_type": "code",
   "execution_count": 12,
   "id": "85993d6c-71ad-47c3-b1d5-ef71f9d38bc0",
   "metadata": {},
   "outputs": [],
   "source": [
    "residential_registry_markups_limit = 20000\n",
    "residential_registry_markups_i = 0"
   ]
  },
  {
   "cell_type": "markdown",
   "id": "12c3aef1-bc3e-42ee-99ab-c83741d5f475",
   "metadata": {},
   "source": [
    "## Get markups data"
   ]
  },
  {
   "cell_type": "code",
   "execution_count": 13,
   "id": "505bad69-cae6-4804-8f21-b93a16da0c56",
   "metadata": {},
   "outputs": [],
   "source": [
    "residential_registry_markups_df = pd.DataFrame()\n",
    "\n",
    "while True:\n",
    "    data = vgClient.residential_registry_markups(offset=residential_registry_markups_i, limit=residential_registry_markups_limit,\n",
    "                                                 search_criteria={\"id\": residential_registry_id_for_markups})\n",
    "    residential_registry_markups_df.append(pd.DataFrame(data['residences']))\n",
    "    if data['meta_data']['total_nr_records'] <= data['meta_data']['offset'] + data['meta_data']['response_rows']:\n",
    "        break\n",
    "    i += data['meta_data']['response_rows']"
   ]
  },
  {
   "cell_type": "code",
   "execution_count": 14,
   "id": "4f7851f9-ccb0-4af0-84eb-e22f6dcc819f",
   "metadata": {},
   "outputs": [
    {
     "data": {
      "text/html": [
       "<div>\n",
       "<style scoped>\n",
       "    .dataframe tbody tr th:only-of-type {\n",
       "        vertical-align: middle;\n",
       "    }\n",
       "\n",
       "    .dataframe tbody tr th {\n",
       "        vertical-align: top;\n",
       "    }\n",
       "\n",
       "    .dataframe thead th {\n",
       "        text-align: right;\n",
       "    }\n",
       "</style>\n",
       "<table border=\"1\" class=\"dataframe\">\n",
       "  <thead>\n",
       "    <tr style=\"text-align: right;\">\n",
       "      <th></th>\n",
       "    </tr>\n",
       "  </thead>\n",
       "  <tbody>\n",
       "  </tbody>\n",
       "</table>\n",
       "</div>"
      ],
      "text/plain": [
       "Empty DataFrame\n",
       "Columns: []\n",
       "Index: []"
      ]
     },
     "execution_count": 14,
     "metadata": {},
     "output_type": "execute_result"
    }
   ],
   "source": [
    "residential_registry_markups_df"
   ]
  }
 ],
 "metadata": {
  "kernelspec": {
   "display_name": "Python 3",
   "language": "python",
   "name": "python3"
  },
  "language_info": {
   "codemirror_mode": {
    "name": "ipython",
    "version": 3
   },
   "file_extension": ".py",
   "mimetype": "text/x-python",
   "name": "python",
   "nbconvert_exporter": "python",
   "pygments_lexer": "ipython3",
   "version": "3.9.2"
  }
 },
 "nbformat": 4,
 "nbformat_minor": 5
}
