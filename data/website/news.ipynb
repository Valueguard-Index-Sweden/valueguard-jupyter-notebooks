{
 "cells": [
  {
   "cell_type": "markdown",
   "id": "79385e45-49f8-48ab-b3c4-0737593b7b00",
   "metadata": {},
   "source": [
    "<img src=\"https://valueguard.se/static/media/valueguardlogo_black.f3a4c174.png\" alt=\"logo\" width=\"400\"/>\n",
    "\n",
    "# News"
   ]
  },
  {
   "cell_type": "markdown",
   "id": "3537711e-4364-4d8c-9361-40227995277e",
   "metadata": {},
   "source": [
    "## Imports"
   ]
  },
  {
   "cell_type": "code",
   "execution_count": 2,
   "id": "73a4b82f-e2f7-417e-ae34-7b9d35af55b1",
   "metadata": {},
   "outputs": [],
   "source": [
    "import pandas as pd\n",
    "import requests"
   ]
  },
  {
   "cell_type": "markdown",
   "id": "e193e452-8a25-405b-9431-5e60e98706b7",
   "metadata": {},
   "source": [
    "## Settings"
   ]
  },
  {
   "cell_type": "code",
   "execution_count": 4,
   "id": "c37a51f0-5e15-460f-a5ad-fab177cecf85",
   "metadata": {},
   "outputs": [],
   "source": [
    "pd.set_option(\"display.max_colwidth\", None)"
   ]
  },
  {
   "cell_type": "markdown",
   "id": "dfe9ee35-6ffd-4c9e-828e-934433aff40a",
   "metadata": {},
   "source": [
    "## Get all news "
   ]
  },
  {
   "cell_type": "code",
   "execution_count": 5,
   "id": "252aa86d-3b30-4c27-b319-d790b3277624",
   "metadata": {},
   "outputs": [],
   "source": [
    "r = requests.get(\"https://analys.valueguard.se/mimerweb/webNews/list\")\n",
    "news_df = pd.DataFrame(r.json())"
   ]
  },
  {
   "cell_type": "markdown",
   "id": "62d5f6d0-b367-4603-94fa-b2a84ccac9c4",
   "metadata": {},
   "source": [
    "## 10 latest news "
   ]
  },
  {
   "cell_type": "code",
   "execution_count": 6,
   "id": "9091c69e-a664-46c6-9d9c-18623a08aa47",
   "metadata": {},
   "outputs": [
    {
     "data": {
      "text/html": [
       "<div>\n",
       "<style scoped>\n",
       "    .dataframe tbody tr th:only-of-type {\n",
       "        vertical-align: middle;\n",
       "    }\n",
       "\n",
       "    .dataframe tbody tr th {\n",
       "        vertical-align: top;\n",
       "    }\n",
       "\n",
       "    .dataframe thead th {\n",
       "        text-align: right;\n",
       "    }\n",
       "</style>\n",
       "<table border=\"1\" class=\"dataframe\">\n",
       "  <thead>\n",
       "    <tr style=\"text-align: right;\">\n",
       "      <th></th>\n",
       "      <th>bodytext</th>\n",
       "      <th>headline</th>\n",
       "      <th>publishdate</th>\n",
       "    </tr>\n",
       "  </thead>\n",
       "  <tbody>\n",
       "    <tr>\n",
       "      <th>0</th>\n",
       "      <td>Under det år som gått sedan coronapandemin nådde Sverige har villapriserna stigit mer än 20 procent, mer än någonsin under en tolvmånadersperiod sedan Valueguard började mäta. Samtidigt har antalet transaktioner per månad legat kring det normala. På bostadsrättssidan har priserna stigit med 8,0 procent, vilket är nästan exakt på snittet för tolvmånadersförändringar i bostadsrättsindex för riket sedan Valueguard började mäta, vilket är 7,4 procent. Å andra sidan har antalet transaktioner på bostadsrättssidan skjutit i höjden på aldrig förr skådat vis. Denna skillnad, att villapriserna skjuter i höjden och transaktionsvolymerna är som vanligt medan bostadsrättspriserna går som vanligt men volymerna drar iväg, är anmärkningsvärd.</td>\n",
       "      <td>Villorna driver fortsatt priserna uppåt i mars men bostadsrätterna saktar in i april</td>\n",
       "      <td>2021-04-20T04:00:00Z</td>\n",
       "    </tr>\n",
       "    <tr>\n",
       "      <th>1</th>\n",
       "      <td>För tredje månaden i rad är tolvmånadersförändringen på villamarknaden, nationellt, över 15 procent. Det har aldrig förut hänt, sedan Valueguard 2005 började följa prisutvecklingen på Sveriges bostadsmarknad. Utvecklingen är relativt jämn då alla fyra delindex gått mycket starkt senaste året. Extra anmärkningsvärt är att detta mäter tillbaka till februari i fjol, månaden innan corona slog till. Denna uppgång är alltså tillbaka till innan corona, och innefattar alla eventuella coronaeffekter. Slutligen, att bostadsrättsindex samtidigt stigit relativt måttligt, med tolvmånadersförändringar mellan fem och sex procent senaste tiden, visar tydligt att senaste årets prisutveckling på bostadsmarknaden drivits av villamarknaden.</td>\n",
       "      <td>Kraftig uppgång på bostadsmarknaden, i synnerhet för villor</td>\n",
       "      <td>2021-03-19T05:00:00Z</td>\n",
       "    </tr>\n",
       "    <tr>\n",
       "      <th>2</th>\n",
       "      <td>Vi har även undersökt prisutvecklingen på bostadsrätter under första halvan av februari i Stockholm och Göteborg. Det stiger med 1,1 procent i Stockholm och 1,2 procent i Göteborg jämfört med hela januari.</td>\n",
       "      <td>Fortsatt uppåt på bostadsmarknaden i januari</td>\n",
       "      <td>2021-02-19T05:00:00Z</td>\n",
       "    </tr>\n",
       "    <tr>\n",
       "      <th>3</th>\n",
       "      <td>Felet berodde på att vi läste på fel rad när vi skrev texten. Vi ber om ursäkt och har förbättrat våra granskningsrutiner för att detta inte ska upprepas. Artikeln är uppdaterad.</td>\n",
       "      <td>Ett fel i Valueguards senaste nyhet</td>\n",
       "      <td>2021-02-02T05:00:00Z</td>\n",
       "    </tr>\n",
       "    <tr>\n",
       "      <th>4</th>\n",
       "      <td>Vi har även undersökt prisutvecklingen på bostadsrätter under första halvan av januari i Stockholm och Göteborg. Det stiger med 2,3 procent i Stockholm och 0,6 procent i Göteborg jämfört med hela december. Om man istället jämför första halvan av januari med sista halvan av december är ökningen 2,7 procent i Stockholm respektive 1,5 procent i Göteborg. Andra halvan av december jämfört med första halvan av december ger istället en nedgång med 0,7 procent i Stockholm och 1,2 procent i Göteborg.\\r\\n\\r\\nDet totala antalet transaktioner på bostadsmarknaden i riket låg i december drygt 20 procent över 2019 års nivå. Villorna är knappt 15 procent över fjolårets nivå medan bostadsrätterna har ökat med nästan 30 procent. Jämfört med 2018 är antalet transaktioner 25 procent högre och även där står bostadsrätterna för majoriteten av ökningen.</td>\n",
       "      <td>Kraftig prisuppgång på bostadsrättsmarknaden i Stockholm första halvan av januari</td>\n",
       "      <td>2021-01-20T05:00:00Z</td>\n",
       "    </tr>\n",
       "    <tr>\n",
       "      <th>5</th>\n",
       "      <td>Vi har även undersökt prisutvecklingen på bostadsrätter under första halvan av december i Stockholm och Göteborg. Det faller med 0,7 procent i Stockholm men stiger 1,1 procent i Göteborg.\\r\\n\\r\\nDet totala antalet transaktioner på bostadsmarknaden låg i november 8 procent över 2019 års nivå och 13 procent högre än 2018. I Stockholm är ökningen större. I november såldes 13 procent fler bostadsrätter i Stockholm än förra året och 30 procent fler än 2018. Ser vi istället till hela hösten, perioden september till november, är ökningen 8 procent i riket på ett års sikt och 17 procent på två års sikt. Denna ökning drivs tydligt av bostadsrättsmarknaden. Under hösten har det sålts 24 procent fler bostadsrätter i Sverige än för två år sedan men endast 5 procent fler villor. I Stockholm har det sålts hela 43 procent fler bostadsrätter denna höst än för 2 år sedan.</td>\n",
       "      <td>Små förändringar på Sveriges bostadsmarknad i november</td>\n",
       "      <td>2020-12-17T05:00:00Z</td>\n",
       "    </tr>\n",
       "    <tr>\n",
       "      <th>6</th>\n",
       "      <td>Vi har även undersökt prisutvecklingen på bostadsrätter under första halvan av november i Stockholm och Göteborg. Det stiger med 0,5 procent i Stockholm och 0,1 procent i Göteborg.Det totala antalet transaktioner på bostadsmarknaden låg i oktober ungefär 5 procent över 2019 års nivå och 15 procent högre än 2018. Jämfört med förra året är det bostadsrätterna som står för ökningen medan villorna minskar något.</td>\n",
       "      <td>Prisuppgång på bostadsmarknaden för sjätte månaden i rad</td>\n",
       "      <td>2020-11-18T05:00:00Z</td>\n",
       "    </tr>\n",
       "    <tr>\n",
       "      <th>7</th>\n",
       "      <td>Fallande priser och stigande försäkringskostnader är möjliga effekter av ökad risk för översvämning och potentiellt förändrad kustlinje. Detta riskerar sedan i förlängningen att medföra ökade kreditrisker för långivare och kreditinstitut vilket i sin tur kan påverka den finansiella stabiliteten i riket som helhet. Södra Sverige anses löpa större risk att drabbas. Rapporten i sin helhet står att finna på Riksbankens hemsida, här: https://www.riksbank.se/sv/press-och-publicerat/nyheter-och-pressmeddelanden/nyheter/2020/hojda-havsnivaer-okar-risken-for-bostader/. För mer information om hur Valueguard bidrar i detta arbete och hur vi kan använda bostadsstatistik för att hantera dessa risker, skriv till info@valueguard.se.</td>\n",
       "      <td>Riksbanken släpper klimatrapport för bostadsmarknaden baserat på Valueguards statistik</td>\n",
       "      <td>2020-11-06T16:03:40Z</td>\n",
       "    </tr>\n",
       "    <tr>\n",
       "      <th>8</th>\n",
       "      <td>Vi har även undersökt prisutvecklingen på bostadsrätter under första halvan av oktober i Stockholm och Göteborg. Det stiger med 0,9 procent i Stockholm och 0,8 procent i Göteborg. Det totala antalet transaktioner på bostadsmarknaden låg i september ungefär 10 procent över 2019 års nivå och 20 procent högre än 2018. Jämfört med förra året ökar antalet transaktioner för bostadsrätterna medan villorna minskar något.</td>\n",
       "      <td>Uppåt på bostadsmarknaden i september</td>\n",
       "      <td>2020-10-19T04:00:00Z</td>\n",
       "    </tr>\n",
       "    <tr>\n",
       "      <th>9</th>\n",
       "      <td>Vi har även undersökt prisutvecklingen på bostadsrätter under första halvan av september i Stockholm och Göteborg. Det stiger med 0,8 procent i Stockholm och 1,1 procent i Göteborg. Antalet transaktioner på bostadsmarknaden låg i augusti på ungefär samma nivå som 2019 och 10 procent högre än 2018. Bostadsrätterna ökar medan villorna minskar något.</td>\n",
       "      <td>Fortsatt bred uppgång på bostadsmarknaden i augusti</td>\n",
       "      <td>2020-09-18T04:00:00Z</td>\n",
       "    </tr>\n",
       "  </tbody>\n",
       "</table>\n",
       "</div>"
      ],
      "text/plain": [
       "                                                                                                                                                                                                                                                                                                                                                                                                                                                                                                                                                                                                                                                                                                                                                                                                                                                                                              bodytext  \\\n",
       "0                                                                                                                                     Under det år som gått sedan coronapandemin nådde Sverige har villapriserna stigit mer än 20 procent, mer än någonsin under en tolvmånadersperiod sedan Valueguard började mäta. Samtidigt har antalet transaktioner per månad legat kring det normala. På bostadsrättssidan har priserna stigit med 8,0 procent, vilket är nästan exakt på snittet för tolvmånadersförändringar i bostadsrättsindex för riket sedan Valueguard började mäta, vilket är 7,4 procent. Å andra sidan har antalet transaktioner på bostadsrättssidan skjutit i höjden på aldrig förr skådat vis. Denna skillnad, att villapriserna skjuter i höjden och transaktionsvolymerna är som vanligt medan bostadsrättspriserna går som vanligt men volymerna drar iväg, är anmärkningsvärd.   \n",
       "1                                                                                                                                           För tredje månaden i rad är tolvmånadersförändringen på villamarknaden, nationellt, över 15 procent. Det har aldrig förut hänt, sedan Valueguard 2005 började följa prisutvecklingen på Sveriges bostadsmarknad. Utvecklingen är relativt jämn då alla fyra delindex gått mycket starkt senaste året. Extra anmärkningsvärt är att detta mäter tillbaka till februari i fjol, månaden innan corona slog till. Denna uppgång är alltså tillbaka till innan corona, och innefattar alla eventuella coronaeffekter. Slutligen, att bostadsrättsindex samtidigt stigit relativt måttligt, med tolvmånadersförändringar mellan fem och sex procent senaste tiden, visar tydligt att senaste årets prisutveckling på bostadsmarknaden drivits av villamarknaden.   \n",
       "2                                                                                                                                                                                                                                                                                                                                                                                                                                                                                                                                                                                                                                                                                        Vi har även undersökt prisutvecklingen på bostadsrätter under första halvan av februari i Stockholm och Göteborg. Det stiger med 1,1 procent i Stockholm och 1,2 procent i Göteborg jämfört med hela januari.   \n",
       "3                                                                                                                                                                                                                                                                                                                                                                                                                                                                                                                                                                                                                                                                                                                   Felet berodde på att vi läste på fel rad när vi skrev texten. Vi ber om ursäkt och har förbättrat våra granskningsrutiner för att detta inte ska upprepas. Artikeln är uppdaterad.   \n",
       "4                           Vi har även undersökt prisutvecklingen på bostadsrätter under första halvan av januari i Stockholm och Göteborg. Det stiger med 2,3 procent i Stockholm och 0,6 procent i Göteborg jämfört med hela december. Om man istället jämför första halvan av januari med sista halvan av december är ökningen 2,7 procent i Stockholm respektive 1,5 procent i Göteborg. Andra halvan av december jämfört med första halvan av december ger istället en nedgång med 0,7 procent i Stockholm och 1,2 procent i Göteborg.\\r\\n\\r\\nDet totala antalet transaktioner på bostadsmarknaden i riket låg i december drygt 20 procent över 2019 års nivå. Villorna är knappt 15 procent över fjolårets nivå medan bostadsrätterna har ökat med nästan 30 procent. Jämfört med 2018 är antalet transaktioner 25 procent högre och även där står bostadsrätterna för majoriteten av ökningen.   \n",
       "5  Vi har även undersökt prisutvecklingen på bostadsrätter under första halvan av december i Stockholm och Göteborg. Det faller med 0,7 procent i Stockholm men stiger 1,1 procent i Göteborg.\\r\\n\\r\\nDet totala antalet transaktioner på bostadsmarknaden låg i november 8 procent över 2019 års nivå och 13 procent högre än 2018. I Stockholm är ökningen större. I november såldes 13 procent fler bostadsrätter i Stockholm än förra året och 30 procent fler än 2018. Ser vi istället till hela hösten, perioden september till november, är ökningen 8 procent i riket på ett års sikt och 17 procent på två års sikt. Denna ökning drivs tydligt av bostadsrättsmarknaden. Under hösten har det sålts 24 procent fler bostadsrätter i Sverige än för två år sedan men endast 5 procent fler villor. I Stockholm har det sålts hela 43 procent fler bostadsrätter denna höst än för 2 år sedan.   \n",
       "6                                                                                                                                                                                                                                                                                                                                                                                                                                                                          Vi har även undersökt prisutvecklingen på bostadsrätter under första halvan av november i Stockholm och Göteborg. Det stiger med 0,5 procent i Stockholm och 0,1 procent i Göteborg.Det totala antalet transaktioner på bostadsmarknaden låg i oktober ungefär 5 procent över 2019 års nivå och 15 procent högre än 2018. Jämfört med förra året är det bostadsrätterna som står för ökningen medan villorna minskar något.   \n",
       "7                                                                                                                                              Fallande priser och stigande försäkringskostnader är möjliga effekter av ökad risk för översvämning och potentiellt förändrad kustlinje. Detta riskerar sedan i förlängningen att medföra ökade kreditrisker för långivare och kreditinstitut vilket i sin tur kan påverka den finansiella stabiliteten i riket som helhet. Södra Sverige anses löpa större risk att drabbas. Rapporten i sin helhet står att finna på Riksbankens hemsida, här: https://www.riksbank.se/sv/press-och-publicerat/nyheter-och-pressmeddelanden/nyheter/2020/hojda-havsnivaer-okar-risken-for-bostader/. För mer information om hur Valueguard bidrar i detta arbete och hur vi kan använda bostadsstatistik för att hantera dessa risker, skriv till info@valueguard.se.   \n",
       "8                                                                                                                                                                                                                                                                                                                                                                                                                                                                     Vi har även undersökt prisutvecklingen på bostadsrätter under första halvan av oktober i Stockholm och Göteborg. Det stiger med 0,9 procent i Stockholm och 0,8 procent i Göteborg. Det totala antalet transaktioner på bostadsmarknaden låg i september ungefär 10 procent över 2019 års nivå och 20 procent högre än 2018. Jämfört med förra året ökar antalet transaktioner för bostadsrätterna medan villorna minskar något.   \n",
       "9                                                                                                                                                                                                                                                                                                                                                                                                                                                                                                                                        Vi har även undersökt prisutvecklingen på bostadsrätter under första halvan av september i Stockholm och Göteborg. Det stiger med 0,8 procent i Stockholm och 1,1 procent i Göteborg. Antalet transaktioner på bostadsmarknaden låg i augusti på ungefär samma nivå som 2019 och 10 procent högre än 2018. Bostadsrätterna ökar medan villorna minskar något.   \n",
       "\n",
       "                                                                                 headline  \\\n",
       "0    Villorna driver fortsatt priserna uppåt i mars men bostadsrätterna saktar in i april   \n",
       "1                             Kraftig uppgång på bostadsmarknaden, i synnerhet för villor   \n",
       "2                                            Fortsatt uppåt på bostadsmarknaden i januari   \n",
       "3                                                     Ett fel i Valueguards senaste nyhet   \n",
       "4       Kraftig prisuppgång på bostadsrättsmarknaden i Stockholm första halvan av januari   \n",
       "5                                  Små förändringar på Sveriges bostadsmarknad i november   \n",
       "6                                Prisuppgång på bostadsmarknaden för sjätte månaden i rad   \n",
       "7  Riksbanken släpper klimatrapport för bostadsmarknaden baserat på Valueguards statistik   \n",
       "8                                                   Uppåt på bostadsmarknaden i september   \n",
       "9                                     Fortsatt bred uppgång på bostadsmarknaden i augusti   \n",
       "\n",
       "            publishdate  \n",
       "0  2021-04-20T04:00:00Z  \n",
       "1  2021-03-19T05:00:00Z  \n",
       "2  2021-02-19T05:00:00Z  \n",
       "3  2021-02-02T05:00:00Z  \n",
       "4  2021-01-20T05:00:00Z  \n",
       "5  2020-12-17T05:00:00Z  \n",
       "6  2020-11-18T05:00:00Z  \n",
       "7  2020-11-06T16:03:40Z  \n",
       "8  2020-10-19T04:00:00Z  \n",
       "9  2020-09-18T04:00:00Z  "
      ]
     },
     "execution_count": 6,
     "metadata": {},
     "output_type": "execute_result"
    }
   ],
   "source": [
    "news_df[['bodytext', 'headline', 'publishdate']][:10]"
   ]
  }
 ],
 "metadata": {
  "kernelspec": {
   "display_name": "Python 3",
   "language": "python",
   "name": "python3"
  },
  "language_info": {
   "codemirror_mode": {
    "name": "ipython",
    "version": 3
   },
   "file_extension": ".py",
   "mimetype": "text/x-python",
   "name": "python",
   "nbconvert_exporter": "python",
   "pygments_lexer": "ipython3",
   "version": "3.9.2"
  }
 },
 "nbformat": 4,
 "nbformat_minor": 5
}
