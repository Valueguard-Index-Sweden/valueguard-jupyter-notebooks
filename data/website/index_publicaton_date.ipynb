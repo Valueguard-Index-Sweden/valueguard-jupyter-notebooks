{
 "cells": [
  {
   "cell_type": "markdown",
   "id": "3cb45057-ee84-4dda-be27-a6e701eb2539",
   "metadata": {},
   "source": [
    "<img src=\"https://valueguard.se/static/media/valueguardlogo_black.f3a4c174.png\" alt=\"logo\" width=\"400\"/>\n",
    "\n",
    "# Index publication date"
   ]
  },
  {
   "cell_type": "markdown",
   "id": "c4c86eef-8394-444b-bb8c-26e8ad579a07",
   "metadata": {},
   "source": [
    "## Imports"
   ]
  },
  {
   "cell_type": "code",
   "execution_count": 12,
   "id": "73a4b82f-e2f7-417e-ae34-7b9d35af55b1",
   "metadata": {},
   "outputs": [],
   "source": [
    "import pandas as pd\n",
    "import requests"
   ]
  },
  {
   "cell_type": "markdown",
   "id": "5053eb9c-ba50-4404-b159-9a486bcd7a6f",
   "metadata": {},
   "source": [
    "## Settings"
   ]
  },
  {
   "cell_type": "code",
   "execution_count": 17,
   "id": "c37a51f0-5e15-460f-a5ad-fab177cecf85",
   "metadata": {},
   "outputs": [],
   "source": [
    "pd.set_option(\"display.max_colwidth\", None)"
   ]
  },
  {
   "cell_type": "markdown",
   "id": "a9bda68d-f580-4d3f-a2fa-cec8995d2696",
   "metadata": {},
   "source": [
    "## Get all publishing dates"
   ]
  },
  {
   "cell_type": "code",
   "execution_count": 18,
   "id": "252aa86d-3b30-4c27-b319-d790b3277624",
   "metadata": {},
   "outputs": [],
   "source": [
    "r = requests.get(\"https://analys.valueguard.se/mimerweb/index/publishingDates\")\n",
    "index_publication_df = pd.DataFrame(r.json())"
   ]
  },
  {
   "cell_type": "code",
   "execution_count": 19,
   "id": "9091c69e-a664-46c6-9d9c-18623a08aa47",
   "metadata": {},
   "outputs": [
    {
     "data": {
      "text/html": [
       "<div>\n",
       "<style scoped>\n",
       "    .dataframe tbody tr th:only-of-type {\n",
       "        vertical-align: middle;\n",
       "    }\n",
       "\n",
       "    .dataframe tbody tr th {\n",
       "        vertical-align: top;\n",
       "    }\n",
       "\n",
       "    .dataframe thead th {\n",
       "        text-align: right;\n",
       "    }\n",
       "</style>\n",
       "<table border=\"1\" class=\"dataframe\">\n",
       "  <thead>\n",
       "    <tr style=\"text-align: right;\">\n",
       "      <th></th>\n",
       "      <th>publishingDate</th>\n",
       "      <th>IAverageingPeriod</th>\n",
       "    </tr>\n",
       "  </thead>\n",
       "  <tbody>\n",
       "    <tr>\n",
       "      <th>0</th>\n",
       "      <td>2021-04-20 06:00:00.0</td>\n",
       "      <td>1m</td>\n",
       "    </tr>\n",
       "    <tr>\n",
       "      <th>1</th>\n",
       "      <td>2021-05-20 06:00:00.0</td>\n",
       "      <td>1m</td>\n",
       "    </tr>\n",
       "    <tr>\n",
       "      <th>2</th>\n",
       "      <td>2021-06-18 06:00:00.0</td>\n",
       "      <td>1m</td>\n",
       "    </tr>\n",
       "  </tbody>\n",
       "</table>\n",
       "</div>"
      ],
      "text/plain": [
       "          publishingDate IAverageingPeriod\n",
       "0  2021-04-20 06:00:00.0                1m\n",
       "1  2021-05-20 06:00:00.0                1m\n",
       "2  2021-06-18 06:00:00.0                1m"
      ]
     },
     "execution_count": 19,
     "metadata": {},
     "output_type": "execute_result"
    }
   ],
   "source": [
    "index_publication_df[['publishingDate','IAverageingPeriod']]"
   ]
  }
 ],
 "metadata": {
  "kernelspec": {
   "display_name": "Python 3",
   "language": "python",
   "name": "python3"
  },
  "language_info": {
   "codemirror_mode": {
    "name": "ipython",
    "version": 3
   },
   "file_extension": ".py",
   "mimetype": "text/x-python",
   "name": "python",
   "nbconvert_exporter": "python",
   "pygments_lexer": "ipython3",
   "version": "3.9.2"
  }
 },
 "nbformat": 4,
 "nbformat_minor": 5
}
